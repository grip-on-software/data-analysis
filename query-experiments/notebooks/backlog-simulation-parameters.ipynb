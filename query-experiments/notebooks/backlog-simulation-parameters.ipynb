{
 "cells": [
  {
   "cell_type": "code",
   "execution_count": null,
   "metadata": {},
   "outputs": [],
   "source": [
    "setwd('/home/notebook/data-analysis')\n",
    "# Import database functions\n",
    "if (exists('INC_DATABASE_R')) {\n",
    "    rm(INC_DATABASE_R)\n",
    "}\n",
    "source('include/database.r')\n",
    "library(plyr)\n",
    "library(foreign)"
   ]
  },
  {
   "cell_type": "code",
   "execution_count": null,
   "metadata": {},
   "outputs": [],
   "source": [
    "# Create database connection\n",
    "conn <- connect()\n",
    "# Retrieve patterns, such as what a story point is\n",
    "patterns <- load_definitions('sprint_definitions.yml')"
   ]
  },
  {
   "cell_type": "code",
   "execution_count": null,
   "metadata": {},
   "outputs": [],
   "source": [
    "query <- 'SELECT sprint.project_id,\n",
    "          EXTRACT(day FROM MAX(${s(sprint_close)}) - MIN(sprint.start_date)) AS lifespan\n",
    "          FROM gros.sprint\n",
    "          GROUP BY sprint.project_id ORDER BY sprint.project_id'\n",
    "time <- system.time(data <- dbGetQuery(conn, load_query(list(query=query), patterns)$query))\n",
    "cat(paste(\"Query took\", time['elapsed'], \"seconds\"), \"\\n\")\n",
    "query2 <- 'SELECT project.project_id,\n",
    "           COUNT(issue.issue_id) AS number\n",
    "           FROM gros.project JOIN gros.issue ON project.project_id = issue.project_id\n",
    "           WHERE issue.type = 7 AND issue.changelog_id = 0\n",
    "           GROUP BY project.project_id ORDER BY project.project_id'\n",
    "time2 <- system.time(data2 <- dbGetQuery(conn, load_query(list(query=query2), patterns)$query))\n",
    "cat(paste(\"Query took\", time2['elapsed'], \"seconds\"), \"\\n\")\n",
    "data <- join(data, data2, by=\"project_id\")"
   ]
  },
  {
   "cell_type": "code",
   "execution_count": null,
   "metadata": {},
   "outputs": [],
   "source": [
    "data <- data[!is.na(data$number),]\n",
    "data"
   ]
  },
  {
   "cell_type": "code",
   "execution_count": null,
   "metadata": {},
   "outputs": [],
   "source": [
    "mean(data$number / data$lifespan)"
   ]
  },
  {
   "cell_type": "code",
   "execution_count": null,
   "metadata": {},
   "outputs": [],
   "source": [
    "sd(data$number / data$lifespan)"
   ]
  },
  {
   "cell_type": "markdown",
   "metadata": {},
   "source": [
    "So each day 0.39 +- 0.30 stories are created."
   ]
  },
  {
   "cell_type": "code",
   "execution_count": null,
   "metadata": {},
   "outputs": [],
   "source": [
    "sprint_features <- read.arff('output/sprint_features.arff')"
   ]
  },
  {
   "cell_type": "code",
   "execution_count": null,
   "metadata": {},
   "outputs": [],
   "source": [
    "mean(sprint_features$num_removed_stories)"
   ]
  },
  {
   "cell_type": "code",
   "execution_count": null,
   "metadata": {},
   "outputs": [],
   "source": [
    "sd(sprint_features$num_removed_stories)"
   ]
  },
  {
   "cell_type": "markdown",
   "metadata": {},
   "source": [
    "So each sprint 0.80 +- 1.94 stories are moved to another sprint."
   ]
  },
  {
   "cell_type": "code",
   "execution_count": null,
   "metadata": {},
   "outputs": [],
   "source": [
    "mean(sprint_features$backlog_dismiss_velocity)"
   ]
  },
  {
   "cell_type": "code",
   "execution_count": null,
   "metadata": {},
   "outputs": [],
   "source": [
    "sd(sprint_features$backlog_dismiss_velocity)"
   ]
  },
  {
   "cell_type": "code",
   "execution_count": null,
   "metadata": {},
   "outputs": [],
   "source": []
  }
 ],
 "metadata": {
  "kernelspec": {
   "display_name": "R",
   "language": "R",
   "name": "ir"
  },
  "language_info": {
   "codemirror_mode": "r",
   "file_extension": ".r",
   "mimetype": "text/x-r-source",
   "name": "R",
   "pygments_lexer": "r",
   "version": "4.0.3"
  }
 },
 "nbformat": 4,
 "nbformat_minor": 2
}
