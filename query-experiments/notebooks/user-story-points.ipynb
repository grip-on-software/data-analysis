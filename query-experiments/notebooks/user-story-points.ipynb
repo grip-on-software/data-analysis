{
 "cells": [
  {
   "cell_type": "markdown",
   "metadata": {},
   "source": [
    "# Analysis of user story points changes\n",
    "\n",
    "We aim to gain a better understanding of the properties of user stories regarding the size of the task. Therefore, we start off with formulating a hypothesis regarding changes made to the size of a task after awarding it initially with a number of story points (which may be based on a t-shirt sizing, in practice). Using this hypothesis, we hope to understand more about why story points change and how we could use this to improve our estimation of work.\n",
    "\n",
    "The goal is to find a way to improve our current backlog estimation methods by introducing a new correction factor that determines how the backlog at a current moment in time may change based on potential future adjustments to the story points. This may be used along with changes due to new stories, removed stories, and stories that have not yet been awarded points in order to generate a full backlog size estimation.\n",
    "\n",
    "**Hypothesis**: There is a \"correction factor\" which can be calculated from a data set of user stories. The correction factor describes the difference between a backlog based on initial awarding of points and a backlog of adjusted story points.\n",
    "\n",
    "**Null hypothesis**: The correction factor stays 1, regardless of the changes to user story points.\n",
    "\n",
    "In this report, we go through the ways we collect the data required for this analysis and the way we look at the statistics that we obtain from it. We also look into which statistical measures appear relevant for this analysis and how we could use them for our benefit in case we can reject the null hypothesis."
   ]
  },
  {
   "cell_type": "code",
   "execution_count": null,
   "metadata": {},
   "outputs": [],
   "source": [
    "# Correct location of notebook\n",
    "setwd('/home/notebook/data-analysis')"
   ]
  },
  {
   "cell_type": "code",
   "execution_count": null,
   "metadata": {},
   "outputs": [],
   "source": [
    "# Import database functions\n",
    "if (exists('INC_DATABASE_R')) {\n",
    "    rm(INC_DATABASE_R)\n",
    "}\n",
    "source('include/database.r')\n",
    "# Import plotting and data manipulation libraries\n",
    "library(ggplot2)\n",
    "library(plyr)\n",
    "\n",
    "# Create a mode function\n",
    "mode <- function(data, na.rm=F) {\n",
    "    unique_data <- unique(data[!is.na(data)])\n",
    "    return(unique_data[which.max(tabulate(match(data, unique_data)))])\n",
    "}"
   ]
  },
  {
   "cell_type": "markdown",
   "metadata": {},
   "source": [
    "First, we want to know how often story points are changed. This helps us understand the scope of the data compared to the entire data set."
   ]
  },
  {
   "cell_type": "code",
   "execution_count": null,
   "metadata": {},
   "outputs": [],
   "source": [
    "# Create database connection\n",
    "conn <- connect()\n",
    "# Retrieve patterns, such as what a story point is\n",
    "patterns <- load_definitions('sprint_definitions.yml')\n",
    "patterns$story_points <- 'CASE WHEN ${t(\"issue\")}.story_points >= 99 THEN 0 ELSE ${t(\"issue\")}.story_points END'"
   ]
  },
  {
   "cell_type": "code",
   "execution_count": null,
   "metadata": {},
   "outputs": [],
   "source": [
    "# Collect:\n",
    "# - Project name (from HQ if possible)\n",
    "# - JIRA issue key\n",
    "# - JIRA issue ID (internal, consistent throughout board changes)\n",
    "# - JIRA sprint ID\n",
    "# - The first before which the change occurred (NA if there is no change)\n",
    "# - The story points before the change occurred\n",
    "# - The story points after the change occurred\n",
    "# - The moment the sprint is really started (1 day leeway)\n",
    "# - The moment at which the change occurred\n",
    "# - The moment the sprint is closed\n",
    "# - Whether the final version of the story indicates that it was \"removed\" from the backlog\n",
    "# From issues that:\n",
    "# - Are stories\n",
    "# - Have story points\n",
    "# - (Optionally) old version has story points\n",
    "# If there is no change where the old version had story points, then provide the latest version\n",
    "changes_query <- '\n",
    "SELECT COALESCE(project.quality_display_name, project.name) AS project, project.name AS project_key,\n",
    "        issue.key, issue.issue_id, issue.sprint_id, old_issue.changelog_id,\n",
    "        old_issue.story_points AS old_points, issue.story_points AS new_points,\n",
    "        ${s(sprint_open)} AS start, issue.updated, ${s(sprint_close)} AS close,\n",
    "        ${s(planned_end)} < issue.updated AND issue.updated < ${s(sprint_close)} AS late,\n",
    "        ${s(issue_excluded, issue=\"final_issue\")} AS removed\n",
    "    FROM gros.issue\n",
    "    JOIN (SELECT issue_id, MAX(changelog_id) AS changelog_id\n",
    "        FROM gros.issue GROUP BY issue_id\n",
    "    ) AS max_issue ON issue.issue_id = max_issue.issue_id\n",
    "    JOIN gros.issue AS final_issue\n",
    "    ON issue.issue_id = final_issue.issue_id AND max_issue.changelog_id = final_issue.changelog_id\n",
    "    LEFT JOIN gros.issue AS old_issue\n",
    "    ON issue.project_id = old_issue.project_id\n",
    "    AND issue.issue_id = old_issue.issue_id\n",
    "    AND issue.changelog_id = old_issue.changelog_id + 1\n",
    "    AND (\n",
    "        COALESCE(${s(story_points)}, 0) <> COALESCE(${s(story_points, issue=\"old_issue\")}, 0)\n",
    "        --OR COALESCE(issue.approved, FALSE) <> COALESCE(old_issue.approved, FALSE)\n",
    "        --OR COALESCE(issue.approved_by_po, FALSE) <> COALESCE(old_issue.approved_by_po, FALSE)\n",
    "        --OR COALESCE(issue.ready_status, 0) <> COALESCE(old_issue.ready_status, 0)\n",
    "    )\n",
    "    JOIN gros.project ON issue.project_id = project.project_id\n",
    "    LEFT JOIN gros.sprint ON issue.project_id = sprint.project_id AND issue.sprint_id = sprint.sprint_id\n",
    "    WHERE COALESCE(project.is_support_team, FALSE) = FALSE\n",
    "    AND ${s(issue_story)}\n",
    "    AND COALESCE(${s(story_points)}, 0) > 0\n",
    "    AND COALESCE(${s(story_points, issue=\"old_issue\")}, 1) > 0\n",
    "    AND (old_issue.issue_id IS NOT NULL OR issue.changelog_id = final_issue.changelog_id)\n",
    "ORDER BY project.quality_display_name, project.name, issue.issue_id, issue.changelog_id'\n",
    "time <- system.time(changes_data <- dbGetQuery(conn, load_query(list(query=changes_query), patterns)$query))\n",
    "cat(paste(\"Query took\", time['elapsed'], \"seconds\"), \"\\n\")\n",
    "cat(\"There are\", nrow(changes_data), \"versions of Jira items with story points\")"
   ]
  },
  {
   "cell_type": "code",
   "execution_count": null,
   "metadata": {},
   "outputs": [],
   "source": [
    "# The total number of Jira items with story points\n",
    "length(unique(changes_data$issue_id))"
   ]
  },
  {
   "cell_type": "code",
   "execution_count": null,
   "metadata": {},
   "outputs": [],
   "source": [
    "edit_data <- changes_data[!is.na(changes_data$changelog_id) & !is.na(changes_data$issue_id), ]\n",
    "multiple_changes <- edit_data[duplicated(edit_data$issue_id), ]\n",
    "# Number of Jira items with multiple changes\n",
    "length(unique(multiple_changes$issue_id))\n",
    "nrow(multiple_changes)"
   ]
  },
  {
   "cell_type": "code",
   "execution_count": null,
   "metadata": {},
   "outputs": [],
   "source": [
    "# The number of Jira items that end up being removed from the backlog\n",
    "length(unique(changes_data[changes_data$removed, \"issue_id\"]))"
   ]
  },
  {
   "cell_type": "code",
   "execution_count": null,
   "metadata": {},
   "outputs": [],
   "source": [
    "# The number of Jira items that has not been in a sprint\n",
    "in_sprint <- unique(changes_data[!is.na(changes_data$sprint_id), \"issue_id\"])\n",
    "length(unique(changes_data[!(changes_data$issue_id %in% in_sprint), \"issue_id\"]))"
   ]
  },
  {
   "cell_type": "code",
   "execution_count": null,
   "metadata": {},
   "outputs": [],
   "source": [
    "# The number of Jira items that have their points changed during a sprint\n",
    "late <- changes_data[changes_data$late & !is.na(changes_data$changelog_id), c(\"project\", \"key\", \"changelog_id\", \"start\", \"updated\", \"close\", \"sprint_id\", \"old_points\", \"new_points\")]\n",
    "length(unique(late$key))\n",
    "late[late$updated > Sys.Date() - as.difftime(12, units=\"weeks\"),]"
   ]
  },
  {
   "cell_type": "markdown",
   "metadata": {},
   "source": [
    "A large number of stories has at least one change to their story points during the sprint on which they are supposed to be worked on. This can indicate any of the following:\n",
    "\n",
    "- The task is found to be larger than initially expected and the story points are therefore adjusted. Since the story points should be an indicator of the expected number of points, this is an incorrect usage of the field.\n",
    "- The task was partially worked on during the sprint and the story points are adjusted to show the remaining number of points. This would assume that the tasks could have been split up and it is therefore also wrong to adjust the original points to only consider the remaining points.\n",
    "- Planning is adjusted late when the sprint should be underway. It is unclear if the commitment to work on a number of points could actually be met.\n",
    "- An error in estimation is corrected.\n",
    "\n",
    "We now look into whether there is a difference in statistics (such as central tendency measurements, sizes and outliers) in each step in which a story has its story points changed. We look at all the changes per step and calculate these statistics."
   ]
  },
  {
   "cell_type": "code",
   "execution_count": null,
   "metadata": {},
   "outputs": [],
   "source": [
    "#TODO: Onderzoek naar andere status-indicatoren en juist deze meetellen voor onderzoek. Dus als story in sprint wordt\n",
    "#genomen, dan alle versies van punten tot dan toe meenemen.\n",
    "\n",
    "# All story changes that:\n",
    "# - actually are changes (not a single story point addition)\n",
    "# - have been in a sprint at any moment\n",
    "# - do not have their story points or other indicators changed during a sprint\n",
    "# - did not result in a \"removed\" story\n",
    "\n",
    "total <- setdiff(unique(changes_data$issue_id), unique(changes_data[!is.na(changes_data$old_points), \"issue_id\"]))\n",
    "#length(unique(changes_data[!(changes_data$issue_id %in% in_sprint), \"issue_id\"]))\n",
    "#length(unique(changes_data[changes_data$late, \"issue_id\"]))\n",
    "#length(unique(changes_data[changes_data$removed, \"issue_id\"]))\n",
    "#length(unique(good_changes$issue_id))\n",
    "\n",
    "good_changes <- changes_data[!is.na(changes_data$old_points) & changes_data$issue_id %in% in_sprint &\n",
    "                             !changes_data$removed,]\n",
    "length(unique(good_changes$issue_id)) / length(total) * 100"
   ]
  },
  {
   "cell_type": "markdown",
   "metadata": {},
   "source": [
    "We are therefore looking at about 12% of the stories in our data set that have timely changes to their story points. All others do not have story points, were never changed, or were removed. This seems like a fair amount. The main part of the backlog consists of stories whose points do not need changing after they have been refined. Others may be changed and this could have an impact on planning."
   ]
  },
  {
   "cell_type": "code",
   "execution_count": null,
   "metadata": {},
   "outputs": [],
   "source": [
    "steps_data <- do.call(\"rbind\", lapply(split(good_changes, good_changes$issue_id), function(issue) {\n",
    "    issue$step <- 1:nrow(issue)\n",
    "    return(issue)\n",
    "}))"
   ]
  },
  {
   "cell_type": "code",
   "execution_count": null,
   "metadata": {},
   "outputs": [],
   "source": [
    "calc <- function(df) {\n",
    "    return(c(paste(\"Average change:\", mean(df$new_points - df$old_points)),\n",
    "             paste(\"Median change:\", median(df$new_points - df$old_points)),\n",
    "             paste(\"Mode of change:\", mode(df$new_points - df$old_points))))\n",
    "}\n",
    "sign_name <- function(df) {\n",
    "    signs <- list(\"-1\"=\"negative\", \"0\"=\"neutral\", \"1\"=\"positive\")\n",
    "    return(signs[as.character(sign(df[1, \"new_points\"] - df[1, \"old_points\"]))])\n",
    "}\n",
    "\n",
    "for (step in split(steps_data, steps_data$step)) {\n",
    "    cat(paste(c(paste(\"step \", step[1, \"step\"] - 1, \" -> \", step[1, \"step\"], \" (\", nrow(step), \" instances):\", sep=\"\"),\n",
    "                calc(step), \"\"), collapse=\"\\n\"))\n",
    "    for (sgn in split(step, sign(step$new_points - step$old_points))) {\n",
    "        cat(paste(c(paste(sign_name(sgn), \" (\", nrow(sgn), \" instances):\", sep=\"\"),\n",
    "                    calc(sgn), \"\"), collapse=\"\\n\"))\n",
    "    }\n",
    "    cat(\"\\n\")\n",
    "}"
   ]
  },
  {
   "cell_type": "code",
   "execution_count": null,
   "metadata": {},
   "outputs": [],
   "source": [
    "first_to_last <- do.call(\"rbind\", lapply(split(steps_data, steps_data$issue_id), function(issue) {\n",
    "    return(data.frame(issue_id=issue[1, \"issue_id\"], old_points=issue[1, \"old_points\"], new_points=issue[nrow(issue), \"new_points\"]))\n",
    "}))\n",
    "cat(paste(c(\"first -> last:\",\n",
    "            calc(first_to_last), \"\"), collapse=\"\\n\"))\n",
    "for (sgn in split(first_to_last, sign(first_to_last$new_points - first_to_last$old_points))) {\n",
    "    cat(paste(c(paste(sign_name(sgn), \" (\", nrow(sgn), \" instances):\", sep=\"\"),\n",
    "                calc(sgn), \"\"), collapse=\"\\n\"))\n",
    "}\n"
   ]
  },
  {
   "cell_type": "markdown",
   "metadata": {},
   "source": [
    "We see that in each step the changes in points differ in their averages. Given that a large majority of stories only have one change, the difference in the first step `#0 -> #1` is similar to the overall step `first -> last`.\n",
    "\n",
    "There are usually more changes due to which the number of points decreases (negative trend) compared to an increase of points. Usuaully the decrease is stronger than the increase in the same step, leading to an overall decrease of the points in that data set.\n",
    "\n",
    "Note that the median or mode provide a more realistic statistic than the average, both in terms of the use of fixed numbers for story point changes as well as when comparing the direction of the overall change in the data set. The average is too biased due to large outliers in changes, making it hard to compare. See for example `step #2 -> #3` where the median and more are much less biased due to a small number of stories that have a large decrease in points.\n",
    "\n",
    "Only a small subset of stories eventually revert back to their original points."
   ]
  },
  {
   "cell_type": "code",
   "execution_count": null,
   "metadata": {},
   "outputs": [],
   "source": [
    "steps_stats <- do.call(\"rbind\", lapply(split(steps_data, steps_data$step), function(step) {\n",
    "    diff <- step$new_points - step$old_points\n",
    "    quant <- quantile(diff)\n",
    "    IQR <- quant[\"75%\"] - quant[\"25%\"]\n",
    "    return(data.frame(step=as.character(step[1, \"step\"]),\n",
    "                      min=min(diff),\n",
    "                      max=max(diff),\n",
    "                      lower=quant[\"25%\"],\n",
    "                      middle=quant[\"50%\"],\n",
    "                      upper=quant[\"75%\"],\n",
    "                      ymin=min(diff[diff >= quant[\"25%\"] - 1.5*IQR]),\n",
    "                      ymax=max(diff[diff <= quant[\"75%\"] + 1.5*IQR])))\n",
    "}))\n",
    "steps_stats"
   ]
  },
  {
   "cell_type": "code",
   "execution_count": null,
   "metadata": {},
   "outputs": [],
   "source": [
    "ggplot(steps_data, aes(x=as.character(step), y=new_points - old_points, group=step)) +\n",
    "    geom_boxplot() +\n",
    "    scale_x_discrete(\"Step\") +\n",
    "    scale_y_continuous(\"Range of Changes\", limits=c(-10, 10)) # Remove a large portion of outliers for now\n",
    "# TODO: Display the results from splits into positive/negative as well, and the \"total\". Think about Sankey as well."
   ]
  },
  {
   "cell_type": "markdown",
   "metadata": {},
   "source": [
    "Statisically speaking, the differences between the groups do not seem relevant enough to consider them to be largely different, aside from a few specific steps that show some difference in their central tendency statistic which seems robust. This is also the case for the group of stories from the first change to their story points until their last change, which is hugely dependent on the group for the first step. The last three steps are also too small to realistically consider for a comparative analysis.\n",
    "\n",
    "This requires a little more statistical testing to verify.\n",
    "\n",
    "This may mean that we can calculate a correction factor for the entire data set instead of for each change specifically, or that we can calculate a correction factor for groups of stories based on different properties. The way we would calculate a correction factor for a data set (such as a backlog) could then be: `mode of story point changes / total number of stories`. (Alternatively: `(median of negative changes + median of positive changes) / total number of stories`)\n",
    "\n",
    "Further research could look into stories that have other properties, such as ready status, relative time of the story point change (compared to the start of the sprint, milestones in the project or meetings related to planning and refinement), links to other issues (relationships, epics) and textual fields. The hypothesis could then be, for example: A different correction factor may be calculated for stories that have more details filled in, compared to those that have fewer details."
   ]
  },
  {
   "cell_type": "code",
   "execution_count": null,
   "metadata": {},
   "outputs": [],
   "source": [
    "# Actually calculate a (sample) correction factor, taking other stories into account\n",
    "old_correction_factor <- function(changes, total) {\n",
    "    1 + mode(changes$new_points - changes$old_points) / length(unique(total[!is.na(changes_data$old_points), \"issue_id\"]))\n",
    "}\n",
    "correction_factor <- function(changes, total) {\n",
    "    neg <- changes[changes$new_points - changes$old_points < 0,]\n",
    "    pos <- changes[changes$new_points - changes$old_points >= 0,]\n",
    "    1 + (pmax(-1, median(pos$new_points - pos$old_points) + median(neg$new_points - neg$old_points), na.rm=T)) / length(unique(total[!is.na(changes_data$old_points), \"issue_id\"]))\n",
    "}\n",
    "\n",
    "cat(sprintf(\"Overall correction factor (all stories, all changes) is %.2f\\n\",\n",
    "          correction_factor(steps_data, changes_data)))\n",
    "corrs <- lapply(split(steps_data, steps_data$project), function(project) {\n",
    "    project_name <- project[1, \"project\"]\n",
    "    all_stories <- changes_data[changes_data$project == project_name,]\n",
    "    corr <- correction_factor(project, all_stories)\n",
    "    old_corr <- old_correction_factor(project, all_stories)\n",
    "    cat(sprintf(\"Correction factor for %s is %.2f (%.2f)\\n\", project_name, corr, old_corr))\n",
    "    num_multi <- length(unique(multiple_changes[multiple_changes$project == project_name, \"issue_id\"]))\n",
    "    return(c(project_name, corr, length(unique(all_stories$issue_id)), num_multi))\n",
    "})\n",
    "nums <- c(\"correction_factor\", \"num_stories\", \"num_multi\")\n",
    "corrs <- t(as.data.frame(corrs))\n",
    "colnames(corrs) <- c(\"project_name\", nums)\n",
    "corrs <- as.data.frame(corrs)\n",
    "corrs[nums] <- lapply(corrs[nums], function(f) { as.numeric(levels(f))[f] })\n",
    "\n",
    "# plot correctiefactor en # stories\n",
    "corrs"
   ]
  },
  {
   "cell_type": "code",
   "execution_count": null,
   "metadata": {},
   "outputs": [],
   "source": [
    "# TODO: Perform validation using an initial backlog\n",
    "# and see how much the correction factor deviates from the actual value of a later backlog\n",
    "# TODO: Count teams (\"boards\") together instead of in separate projects\n",
    "\n",
    "changes_data[changes_data$project == \"<project>\" & !is.na(changes_data$old_points),\n",
    "             c(\"key\", \"changelog_id\", \"old_points\", \"new_points\")]"
   ]
  },
  {
   "cell_type": "code",
   "execution_count": null,
   "metadata": {},
   "outputs": [],
   "source": [
    "ggplot(corrs, aes(x=correction_factor, y=num_stories)) +\n",
    "    geom_point(aes(size=num_multi)) +\n",
    "    geom_text(aes(label=project_name), hjust=0.5, vjust=-1.75, size=3) +\n",
    "    stat_smooth(formula=y ~ x, method=\"loess\", se=F, show.legend=F) +\n",
    "    scale_x_continuous(\"Correction factor\", breaks=seq(0.5, 1.3, 0.1)) +\n",
    "    scale_y_continuous(\"Number of stories\") +\n",
    "    scale_size(name=\"#stories > 1 change\", guide=\"legend\") +\n",
    "    labs(title=paste(\"Correction factor per project\")) +\n",
    "    theme(axis.text.x = element_text(angle=90, hjust=1, vjust=0.5), plot.title=element_text(hjust=0.5))\n"
   ]
  },
  {
   "cell_type": "code",
   "execution_count": null,
   "metadata": {},
   "outputs": [],
   "source": [
    "ggplot(corrs, aes(y=num_stories, x=num_multi / num_stories)) +\n",
    "    geom_point(aes(size=correction_factor)) +\n",
    "    geom_text(aes(label=project_name), nudge_x=0, nudge_y=50, size=3) +\n",
    "    stat_smooth(formula=y ~ x, method=\"loess\", se=F, show.legend=F) +\n",
    "    scale_y_continuous(\"Number of stories\") +\n",
    "    scale_x_continuous(\"% of stories > 1 change\") +\n",
    "    scale_size(name=\"Correction factor\", limits = c(0.5, 1.3), guide=\"legend\") +\n",
    "    labs(title=paste(\"Projects with multiple story point changes\")) +\n",
    "    theme(axis.text.x = element_text(angle = 90, hjust = 1, vjust=0.5), plot.title=element_text(hjust=0.5))\n"
   ]
  },
  {
   "cell_type": "code",
   "execution_count": null,
   "metadata": {},
   "outputs": [],
   "source": []
  }
 ],
 "metadata": {
  "kernelspec": {
   "display_name": "R",
   "language": "R",
   "name": "ir"
  },
  "language_info": {
   "codemirror_mode": "r",
   "file_extension": ".r",
   "mimetype": "text/x-r-source",
   "name": "R",
   "pygments_lexer": "r",
   "version": "4.0.3"
  }
 },
 "nbformat": 4,
 "nbformat_minor": 2
}
