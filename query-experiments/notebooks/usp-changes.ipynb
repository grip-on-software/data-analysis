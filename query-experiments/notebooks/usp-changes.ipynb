{
 "cells": [
  {
   "cell_type": "code",
   "execution_count": null,
   "metadata": {},
   "outputs": [],
   "source": [
    "setwd('/home/notebook/data-analysis')"
   ]
  },
  {
   "cell_type": "code",
   "execution_count": null,
   "metadata": {},
   "outputs": [],
   "source": [
    "if (exists('INC_DATABASE_R')) {\n",
    "    rm(INC_DATABASE_R)\n",
    "}\n",
    "source('include/database.r')\n",
    "library(ggplot2)\n",
    "library(plyr)\n",
    "\n",
    "mode <- function(data, na.rm=F) {\n",
    "    unique_data <- unique(data[!is.na(data)])\n",
    "    return(unique_data[which.max(tabulate(match(data, unique_data)))])\n",
    "}"
   ]
  },
  {
   "cell_type": "code",
   "execution_count": null,
   "metadata": {},
   "outputs": [],
   "source": []
  },
  {
   "cell_type": "code",
   "execution_count": null,
   "metadata": {},
   "outputs": [],
   "source": [
    "conn <- connect()\n",
    "query <- 'SELECT COALESCE(project.quality_display_name, project.name) AS project, num_changes, COUNT(*) AS count FROM (\n",
    "    SELECT issue.project_id, issue.issue_id, SUM(CASE WHEN old_issue.issue_id IS NULL THEN 0 ELSE 1 END) AS num_changes\n",
    "    FROM gros.issue\n",
    "    LEFT JOIN gros.issue AS old_issue\n",
    "    ON issue.project_id = old_issue.project_id\n",
    "    AND issue.issue_id = old_issue.issue_id\n",
    "    AND issue.changelog_id = old_issue.changelog_id + 1\n",
    "    WHERE issue.story_points <> old_issue.story_points\n",
    "    AND issue.story_points NOT IN (99, 100, 122, 999)\n",
    "    AND old_issue.story_points NOT IN (99, 100, 122, 999)\n",
    "    GROUP BY issue.project_id, issue.issue_id\n",
    ") AS changes\n",
    "JOIN gros.project ON changes.project_id = project.project_id\n",
    "WHERE COALESCE(project.is_support_team, FALSE) = FALSE\n",
    "GROUP BY project.quality_display_name, project.name, num_changes ORDER BY project.quality_display_name, project.name, num_changes'\n",
    "data <- dbGetQuery(conn, query)\n",
    "data"
   ]
  },
  {
   "cell_type": "code",
   "execution_count": null,
   "metadata": {},
   "outputs": [],
   "source": [
    "lapply(split(data, data$num_changes), function(c) { sum(c$count) })"
   ]
  },
  {
   "cell_type": "code",
   "execution_count": null,
   "metadata": {},
   "outputs": [],
   "source": [
    "lapply(split(data, data$project), function(project) {\n",
    "    ggplot(project) + geom_bar(aes(x=num_changes, y=count), stat=\"identity\") +\n",
    "        labs(title=paste(\"number of user stories in\", project[1, \"project\"])) +\n",
    "        theme(plot.title = element_text(hjust = 0.5))\n",
    "})"
   ]
  },
  {
   "cell_type": "code",
   "execution_count": null,
   "metadata": {},
   "outputs": [],
   "source": []
  },
  {
   "cell_type": "code",
   "execution_count": null,
   "metadata": {},
   "outputs": [],
   "source": [
    "query <- 'SELECT COALESCE(project.quality_display_name, project.name) AS project, issue.issue_id, issue.story_points - old_issue.story_points AS change\n",
    "    FROM gros.issue\n",
    "    LEFT JOIN gros.issue AS old_issue\n",
    "    ON issue.project_id = old_issue.project_id\n",
    "    AND issue.issue_id = old_issue.issue_id\n",
    "    AND issue.changelog_id = old_issue.changelog_id + 1\n",
    "JOIN gros.project ON issue.project_id = project.project_id\n",
    "WHERE issue.story_points <> old_issue.story_points\n",
    "AND issue.story_points < 99\n",
    "AND old_issue.story_points < 99\n",
    "AND COALESCE(project.is_support_team, FALSE) = FALSE\n",
    "    --GROUP BY project.quality_display_name, project.name, issue.issue_id\n",
    "ORDER BY issue.issue_id, issue.changelog_id'\n",
    "changes <- dbGetQuery(conn, query)\n",
    "changes$num_changes <- unlist(lapply(split(changes, changes$issue_id),\n",
    "                                     function(issue) { rep(nrow(issue), nrow(issue)) }))\n",
    "changes <- arrange(changes, changes$project, changes$issue_id)\n",
    "changes"
   ]
  },
  {
   "cell_type": "code",
   "execution_count": null,
   "metadata": {},
   "outputs": [],
   "source": []
  },
  {
   "cell_type": "code",
   "execution_count": null,
   "metadata": {},
   "outputs": [],
   "source": [
    "lapply(split(changes, changes$num_changes), function(bin) {\n",
    "    #return(c(min(bin$change), max(bin$change)))\n",
    "    ggplot(bin) +\n",
    "        geom_bar(aes(x=project, y=mode(change)), stat=\"identity\") +\n",
    "        labs(title=paste(\"story points with\", bin[1, \"num_changes\"], \"change(s)\")) +\n",
    "        theme(axis.text.x = element_text(angle = 90, hjust = 1), plot.title=element_text(hjust=0.5))\n",
    "})"
   ]
  },
  {
   "cell_type": "markdown",
   "metadata": {},
   "source": []
  },
  {
   "cell_type": "code",
   "execution_count": null,
   "metadata": {},
   "outputs": [],
   "source": []
  },
  {
   "cell_type": "code",
   "execution_count": null,
   "metadata": {},
   "outputs": [],
   "source": [
    "query <- 'SELECT COALESCE(project.quality_display_name, project.name) AS project, issue.issue_id, issue.story_points - old_issue.story_points AS change\n",
    "    FROM gros.issue\n",
    "    LEFT JOIN gros.issue AS old_issue\n",
    "    ON issue.project_id = old_issue.project_id\n",
    "    AND issue.issue_id = old_issue.issue_id\n",
    "    AND issue.changelog_id = old_issue.changelog_id + 1\n",
    "JOIN gros.project ON issue.project_id = project.project_id\n",
    "WHERE issue.story_points <> COALESCE(old_issue.story_points, -1)\n",
    "AND issue.story_points < 99\n",
    "AND COALESCE(old_issue.story_points, -1) < 99\n",
    "AND COALESCE(project.is_support_team, FALSE) = FALSE\n",
    "    --GROUP BY project.quality_display_name, project.name, issue.issue_id\n",
    "ORDER BY issue.issue_id, issue.changelog_id'\n",
    "changes <- dbGetQuery(conn, query)\n",
    "changes$num_changes <- unlist(lapply(split(changes, changes$issue_id),\n",
    "                                     function(issue) { rep(sum(!is.na(issue$change)), nrow(issue)) }))\n",
    "changes <- arrange(changes, changes$project, changes$issue_id)"
   ]
  },
  {
   "cell_type": "code",
   "execution_count": null,
   "metadata": {},
   "outputs": [],
   "source": []
  },
  {
   "cell_type": "markdown",
   "metadata": {},
   "source": [
    "Van elke stap `#0 -> #1 -> #2 -> ...` en `#0 -> laatste`\n",
    "- Gemiddelde verandering\n",
    "- Modus\n",
    "- mediaan\n",
    "- Uitsplitsen positief/negatief\n",
    "- Aantallen\n",
    "- Spreiding?\n",
    "\n",
    "Kunnen we een correctiefactor vinden op basis van eerdere backlog wat er mogelijk gaat veranderen\n",
    "\n",
    "Dezelfde analyse voor vervallen en extra stories\n",
    "\n",
    "Vervolgstap: Hoe verhoudt de correctiefactor over tijd?\n",
    "Cross-validatie (of echt random eruit gooien)\n",
    "\n",
    "- Opschonen storypoints\n",
    "\n",
    "Met correctiefactor-bepaling: Per sprint bepalen\n",
    "Verschil tussen projecten en over tijd\n",
    "\n",
    "Correctiefactor totaal = CF_nieuw * CF_vervallen * CF_sp"
   ]
  },
  {
   "cell_type": "code",
   "execution_count": null,
   "metadata": {},
   "outputs": [],
   "source": []
  }
 ],
 "metadata": {
  "kernelspec": {
   "display_name": "R",
   "language": "R",
   "name": "ir"
  },
  "language_info": {
   "codemirror_mode": "r",
   "file_extension": ".r",
   "mimetype": "text/x-r-source",
   "name": "R",
   "pygments_lexer": "r",
   "version": "4.0.3"
  }
 },
 "nbformat": 4,
 "nbformat_minor": 2
}
